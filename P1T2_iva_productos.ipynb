{
  "nbformat": 4,
  "nbformat_minor": 0,
  "metadata": {
    "colab": {
      "name": "P1T2_iva_productos.ipynb",
      "provenance": [],
      "collapsed_sections": []
    },
    "kernelspec": {
      "name": "python3",
      "display_name": "Python 3"
    },
    "language_info": {
      "name": "python"
    }
  },
  "cells": [
    {
      "cell_type": "markdown",
      "metadata": {
        "id": "xS1IddiUCnJT"
      },
      "source": [
        "\n"
      ]
    },
    {
      "cell_type": "code",
      "metadata": {
        "colab": {
          "base_uri": "https://localhost:8080/"
        },
        "id": "Beiqi32gJYLR",
        "outputId": "f216e420-3d08-4716-9b60-3c8cf46eae84"
      },
      "source": [
        "valueiva, totalvalue, totaliva= 0,0,0\n",
        "for i in range(0,5):\n",
        "    value=input(\"ingrese el valor del producto \"+str(i)+\": \")\n",
        "    iva = int(value)*0.19\n",
        "    totaliva += iva\n",
        "    valueiva += int(value) + int(iva)\n",
        "    totalvalue += int(value)\n",
        "print(\"valor iva: \"+str(totaliva) + \", valor base: \" +str(totalvalue)+ \n",
        "      \", total factura: \" + str(valueiva))"
      ],
      "execution_count": null,
      "outputs": [
        {
          "output_type": "stream",
          "text": [
            "ingrese el valor del producto 0: 25\n",
            "ingrese el valor del producto 1: 1000\n",
            "ingrese el valor del producto 2: 3000\n",
            "ingrese el valor del producto 3: 5000\n",
            "ingrese el valor del producto 4: 1000\n",
            "valor iva: 1904.75, valor base: 10025, total factura: 11929\n"
          ],
          "name": "stdout"
        }
      ]
    }
  ]
}
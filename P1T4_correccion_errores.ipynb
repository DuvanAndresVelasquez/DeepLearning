{
  "nbformat": 4,
  "nbformat_minor": 0,
  "metadata": {
    "colab": {
      "name": "P1T4_correccion_errores.ipynb",
      "provenance": [],
      "collapsed_sections": []
    },
    "kernelspec": {
      "name": "python3",
      "display_name": "Python 3"
    },
    "language_info": {
      "name": "python"
    }
  },
  "cells": [
    {
      "cell_type": "markdown",
      "metadata": {
        "id": "Of3mkM498gYH"
      },
      "source": [
        "P1T3_A:"
      ]
    },
    {
      "cell_type": "code",
      "metadata": {
        "colab": {
          "base_uri": "https://localhost:8080/"
        },
        "id": "_90MI9EF21n-",
        "outputId": "8583557f-7b3c-4e66-90ba-0f2db9da03b7"
      },
      "source": [
        "bruto = int(input('Cual es el valor bruto del producto: '))\n",
        "iva = 0.19\n",
        "\n",
        "\n",
        "def f_aplica_iva(bruto, iva):\n",
        "    total_iva = bruto * iva   \n",
        "    return total_iva\n",
        "\n",
        "    print(f_aplica_iva(bruto, iva))\n",
        "\n"
      ],
      "execution_count": 64,
      "outputs": [
        {
          "output_type": "stream",
          "text": [
            "Cual es el valor bruto del producto: 1\n"
          ],
          "name": "stdout"
        }
      ]
    },
    {
      "cell_type": "markdown",
      "metadata": {
        "id": "7h8dw46f8l1N"
      },
      "source": [
        "P1T3_B:"
      ]
    },
    {
      "cell_type": "code",
      "metadata": {
        "id": "HJWiYMAM8ux9",
        "colab": {
          "base_uri": "https://localhost:8080/"
        },
        "outputId": "3089b781-2b10-4847-ed32-9a038580c8b2"
      },
      "source": [
        "u = [1, 2, 3]\n",
        "v = [4, 5, 6]\n",
        "\n",
        "def multiplicar_vector(u, v):\n",
        "    for i in u:\n",
        "      u[1] *= v[1]\n",
        "    return sum(u)\n",
        "\n",
        "print(multiplicar_vector(u, v))"
      ],
      "execution_count": 60,
      "outputs": [
        {
          "output_type": "stream",
          "text": [
            "254\n"
          ],
          "name": "stdout"
        }
      ]
    },
    {
      "cell_type": "markdown",
      "metadata": {
        "id": "UJOV3YPv9F7R"
      },
      "source": [
        "P1T3_C:"
      ]
    },
    {
      "cell_type": "code",
      "metadata": {
        "id": "Ou3fuNkC9I09",
        "colab": {
          "base_uri": "https://localhost:8080/"
        },
        "outputId": "8225d42a-c0ba-4337-88e9-411302795abd"
      },
      "source": [
        "total=0\n",
        "for i in range(0, int(input(\"Total de números? \"))):\n",
        "  total += int(input(\"Ingrese un valor: \"+str(i)+\": \"))\n",
        "print(\"El total de la suma es:{\",total,\"} \")"
      ],
      "execution_count": 25,
      "outputs": [
        {
          "output_type": "stream",
          "text": [
            "Total de números? 1\n",
            "Ingrese un valor: 0: 25\n",
            "El total de la suma es:{ 25 } \n"
          ],
          "name": "stdout"
        }
      ]
    }
  ]
}
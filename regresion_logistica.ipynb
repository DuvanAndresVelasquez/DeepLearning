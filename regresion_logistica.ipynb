{
  "nbformat": 4,
  "nbformat_minor": 0,
  "metadata": {
    "colab": {
      "name": "regresion_logistica.ipynb",
      "provenance": [],
      "collapsed_sections": []
    },
    "kernelspec": {
      "name": "python3",
      "display_name": "Python 3"
    },
    "language_info": {
      "name": "python"
    }
  },
  "cells": [
    {
      "cell_type": "markdown",
      "metadata": {
        "id": "xWwW3XUASFPI"
      },
      "source": [
        "# **Importamos librerias** "
      ]
    },
    {
      "cell_type": "code",
      "metadata": {
        "id": "G-tF1Hd3SMR4"
      },
      "source": [
        "import numpy as np\n",
        "import pandas as pd\n",
        "import matplotlib.pyplot as plt \n",
        "import seaborn as sns \n",
        "from sklearn import metrics\n",
        "from sklearn.linear_model import LogisticRegression\n",
        "from sklearn.model_selection import train_test_split"
      ],
      "execution_count": 1,
      "outputs": []
    },
    {
      "cell_type": "code",
      "metadata": {
        "id": "Bzt0lZ1XSr2p"
      },
      "source": [
        "df=pd.DataFrame\n",
        "df=pd.read_csv('https://raw.githubusercontent.com/luisFernandoCastellanosG/Machine_learning/master/Machine_Learning_Classic/Databasets/mercadeo_bancario.csv', encoding='utf-8')"
      ],
      "execution_count": 3,
      "outputs": []
    },
    {
      "cell_type": "code",
      "metadata": {
        "colab": {
          "base_uri": "https://localhost:8080/",
          "height": 689
        },
        "id": "sBCSpmJiTPzm",
        "outputId": "55840510-f05e-4c55-d058-23fa7adf030b"
      },
      "source": [
        "df.head(20)"
      ],
      "execution_count": 6,
      "outputs": [
        {
          "output_type": "execute_result",
          "data": {
            "text/html": [
              "<div>\n",
              "<style scoped>\n",
              "    .dataframe tbody tr th:only-of-type {\n",
              "        vertical-align: middle;\n",
              "    }\n",
              "\n",
              "    .dataframe tbody tr th {\n",
              "        vertical-align: top;\n",
              "    }\n",
              "\n",
              "    .dataframe thead th {\n",
              "        text-align: right;\n",
              "    }\n",
              "</style>\n",
              "<table border=\"1\" class=\"dataframe\">\n",
              "  <thead>\n",
              "    <tr style=\"text-align: right;\">\n",
              "      <th></th>\n",
              "      <th>edad</th>\n",
              "      <th>trabajo</th>\n",
              "      <th>estado_civil</th>\n",
              "      <th>educacion</th>\n",
              "      <th>total_hijos</th>\n",
              "      <th>credito_sin_pago</th>\n",
              "      <th>prestamo_vivienda</th>\n",
              "      <th>prestamo_personal</th>\n",
              "      <th>valor_prestamo</th>\n",
              "      <th>dias_ultimo_pago</th>\n",
              "      <th>tarjetas_credito</th>\n",
              "      <th>contacto</th>\n",
              "      <th>mes</th>\n",
              "      <th>dia_semana</th>\n",
              "      <th>duracion_ultimo_contacto</th>\n",
              "      <th>dias_ultimo_contacto</th>\n",
              "      <th>anterior_contacto</th>\n",
              "      <th>numero_empleados</th>\n",
              "      <th>si_no</th>\n",
              "    </tr>\n",
              "  </thead>\n",
              "  <tbody>\n",
              "    <tr>\n",
              "      <th>0</th>\n",
              "      <td>44</td>\n",
              "      <td>blue-collar</td>\n",
              "      <td>married</td>\n",
              "      <td>preschool</td>\n",
              "      <td>7</td>\n",
              "      <td>unknown</td>\n",
              "      <td>yes</td>\n",
              "      <td>no</td>\n",
              "      <td>268017</td>\n",
              "      <td>0</td>\n",
              "      <td>5</td>\n",
              "      <td>cellular</td>\n",
              "      <td>aug</td>\n",
              "      <td>thu</td>\n",
              "      <td>210</td>\n",
              "      <td>43</td>\n",
              "      <td>0</td>\n",
              "      <td>88</td>\n",
              "      <td>0</td>\n",
              "    </tr>\n",
              "    <tr>\n",
              "      <th>1</th>\n",
              "      <td>53</td>\n",
              "      <td>technician</td>\n",
              "      <td>married</td>\n",
              "      <td>unknown</td>\n",
              "      <td>1</td>\n",
              "      <td>no</td>\n",
              "      <td>no</td>\n",
              "      <td>no</td>\n",
              "      <td>0</td>\n",
              "      <td>0</td>\n",
              "      <td>0</td>\n",
              "      <td>cellular</td>\n",
              "      <td>nov</td>\n",
              "      <td>fri</td>\n",
              "      <td>138</td>\n",
              "      <td>0</td>\n",
              "      <td>0</td>\n",
              "      <td>14</td>\n",
              "      <td>0</td>\n",
              "    </tr>\n",
              "    <tr>\n",
              "      <th>2</th>\n",
              "      <td>28</td>\n",
              "      <td>management</td>\n",
              "      <td>single</td>\n",
              "      <td>university.degree</td>\n",
              "      <td>3</td>\n",
              "      <td>no</td>\n",
              "      <td>yes</td>\n",
              "      <td>no</td>\n",
              "      <td>308036</td>\n",
              "      <td>0</td>\n",
              "      <td>0</td>\n",
              "      <td>cellular</td>\n",
              "      <td>jun</td>\n",
              "      <td>thu</td>\n",
              "      <td>339</td>\n",
              "      <td>27</td>\n",
              "      <td>2</td>\n",
              "      <td>1993</td>\n",
              "      <td>1</td>\n",
              "    </tr>\n",
              "    <tr>\n",
              "      <th>3</th>\n",
              "      <td>39</td>\n",
              "      <td>services</td>\n",
              "      <td>married</td>\n",
              "      <td>Technological_school</td>\n",
              "      <td>1</td>\n",
              "      <td>no</td>\n",
              "      <td>no</td>\n",
              "      <td>no</td>\n",
              "      <td>0</td>\n",
              "      <td>0</td>\n",
              "      <td>4</td>\n",
              "      <td>cellular</td>\n",
              "      <td>apr</td>\n",
              "      <td>fri</td>\n",
              "      <td>185</td>\n",
              "      <td>0</td>\n",
              "      <td>0</td>\n",
              "      <td>1338</td>\n",
              "      <td>0</td>\n",
              "    </tr>\n",
              "    <tr>\n",
              "      <th>4</th>\n",
              "      <td>55</td>\n",
              "      <td>retired</td>\n",
              "      <td>married</td>\n",
              "      <td>preschool</td>\n",
              "      <td>2</td>\n",
              "      <td>no</td>\n",
              "      <td>yes</td>\n",
              "      <td>no</td>\n",
              "      <td>249888</td>\n",
              "      <td>0</td>\n",
              "      <td>4</td>\n",
              "      <td>cellular</td>\n",
              "      <td>aug</td>\n",
              "      <td>fri</td>\n",
              "      <td>137</td>\n",
              "      <td>2</td>\n",
              "      <td>1</td>\n",
              "      <td>1184</td>\n",
              "      <td>1</td>\n",
              "    </tr>\n",
              "    <tr>\n",
              "      <th>5</th>\n",
              "      <td>30</td>\n",
              "      <td>management</td>\n",
              "      <td>divorced</td>\n",
              "      <td>preschool</td>\n",
              "      <td>6</td>\n",
              "      <td>yes</td>\n",
              "      <td>yes</td>\n",
              "      <td>no</td>\n",
              "      <td>499476</td>\n",
              "      <td>75</td>\n",
              "      <td>1</td>\n",
              "      <td>cellular</td>\n",
              "      <td>jul</td>\n",
              "      <td>tue</td>\n",
              "      <td>68</td>\n",
              "      <td>90</td>\n",
              "      <td>0</td>\n",
              "      <td>1553</td>\n",
              "      <td>0</td>\n",
              "    </tr>\n",
              "    <tr>\n",
              "      <th>6</th>\n",
              "      <td>37</td>\n",
              "      <td>blue-collar</td>\n",
              "      <td>married</td>\n",
              "      <td>preschool</td>\n",
              "      <td>6</td>\n",
              "      <td>no</td>\n",
              "      <td>yes</td>\n",
              "      <td>no</td>\n",
              "      <td>86520</td>\n",
              "      <td>0</td>\n",
              "      <td>5</td>\n",
              "      <td>cellular</td>\n",
              "      <td>may</td>\n",
              "      <td>thu</td>\n",
              "      <td>204</td>\n",
              "      <td>66</td>\n",
              "      <td>0</td>\n",
              "      <td>442</td>\n",
              "      <td>0</td>\n",
              "    </tr>\n",
              "    <tr>\n",
              "      <th>7</th>\n",
              "      <td>39</td>\n",
              "      <td>blue-collar</td>\n",
              "      <td>divorced</td>\n",
              "      <td>tecnical_school</td>\n",
              "      <td>4</td>\n",
              "      <td>no</td>\n",
              "      <td>yes</td>\n",
              "      <td>no</td>\n",
              "      <td>176081</td>\n",
              "      <td>0</td>\n",
              "      <td>1</td>\n",
              "      <td>cellular</td>\n",
              "      <td>may</td>\n",
              "      <td>fri</td>\n",
              "      <td>191</td>\n",
              "      <td>51</td>\n",
              "      <td>0</td>\n",
              "      <td>495</td>\n",
              "      <td>0</td>\n",
              "    </tr>\n",
              "    <tr>\n",
              "      <th>8</th>\n",
              "      <td>36</td>\n",
              "      <td>admin.</td>\n",
              "      <td>married</td>\n",
              "      <td>university.degree</td>\n",
              "      <td>6</td>\n",
              "      <td>no</td>\n",
              "      <td>no</td>\n",
              "      <td>no</td>\n",
              "      <td>0</td>\n",
              "      <td>0</td>\n",
              "      <td>3</td>\n",
              "      <td>cellular</td>\n",
              "      <td>jun</td>\n",
              "      <td>mon</td>\n",
              "      <td>174</td>\n",
              "      <td>0</td>\n",
              "      <td>1</td>\n",
              "      <td>1097</td>\n",
              "      <td>1</td>\n",
              "    </tr>\n",
              "    <tr>\n",
              "      <th>9</th>\n",
              "      <td>27</td>\n",
              "      <td>blue-collar</td>\n",
              "      <td>single</td>\n",
              "      <td>preschool</td>\n",
              "      <td>3</td>\n",
              "      <td>no</td>\n",
              "      <td>yes</td>\n",
              "      <td>no</td>\n",
              "      <td>323709</td>\n",
              "      <td>0</td>\n",
              "      <td>1</td>\n",
              "      <td>cellular</td>\n",
              "      <td>apr</td>\n",
              "      <td>thu</td>\n",
              "      <td>191</td>\n",
              "      <td>33</td>\n",
              "      <td>1</td>\n",
              "      <td>414</td>\n",
              "      <td>0</td>\n",
              "    </tr>\n",
              "    <tr>\n",
              "      <th>10</th>\n",
              "      <td>34</td>\n",
              "      <td>housemaid</td>\n",
              "      <td>single</td>\n",
              "      <td>university.degree</td>\n",
              "      <td>8</td>\n",
              "      <td>no</td>\n",
              "      <td>no</td>\n",
              "      <td>no</td>\n",
              "      <td>0</td>\n",
              "      <td>0</td>\n",
              "      <td>5</td>\n",
              "      <td>telephone</td>\n",
              "      <td>may</td>\n",
              "      <td>fri</td>\n",
              "      <td>62</td>\n",
              "      <td>0</td>\n",
              "      <td>0</td>\n",
              "      <td>1600</td>\n",
              "      <td>0</td>\n",
              "    </tr>\n",
              "    <tr>\n",
              "      <th>11</th>\n",
              "      <td>41</td>\n",
              "      <td>management</td>\n",
              "      <td>married</td>\n",
              "      <td>university.degree</td>\n",
              "      <td>2</td>\n",
              "      <td>no</td>\n",
              "      <td>yes</td>\n",
              "      <td>no</td>\n",
              "      <td>429832</td>\n",
              "      <td>0</td>\n",
              "      <td>5</td>\n",
              "      <td>cellular</td>\n",
              "      <td>aug</td>\n",
              "      <td>thu</td>\n",
              "      <td>789</td>\n",
              "      <td>14</td>\n",
              "      <td>0</td>\n",
              "      <td>1630</td>\n",
              "      <td>0</td>\n",
              "    </tr>\n",
              "    <tr>\n",
              "      <th>12</th>\n",
              "      <td>55</td>\n",
              "      <td>management</td>\n",
              "      <td>married</td>\n",
              "      <td>university.degree</td>\n",
              "      <td>7</td>\n",
              "      <td>no</td>\n",
              "      <td>no</td>\n",
              "      <td>no</td>\n",
              "      <td>0</td>\n",
              "      <td>0</td>\n",
              "      <td>4</td>\n",
              "      <td>cellular</td>\n",
              "      <td>aug</td>\n",
              "      <td>mon</td>\n",
              "      <td>372</td>\n",
              "      <td>0</td>\n",
              "      <td>0</td>\n",
              "      <td>1515</td>\n",
              "      <td>1</td>\n",
              "    </tr>\n",
              "    <tr>\n",
              "      <th>13</th>\n",
              "      <td>33</td>\n",
              "      <td>services</td>\n",
              "      <td>divorced</td>\n",
              "      <td>Technological_school</td>\n",
              "      <td>6</td>\n",
              "      <td>no</td>\n",
              "      <td>yes</td>\n",
              "      <td>no</td>\n",
              "      <td>337531</td>\n",
              "      <td>0</td>\n",
              "      <td>1</td>\n",
              "      <td>cellular</td>\n",
              "      <td>may</td>\n",
              "      <td>tue</td>\n",
              "      <td>75</td>\n",
              "      <td>76</td>\n",
              "      <td>0</td>\n",
              "      <td>388</td>\n",
              "      <td>0</td>\n",
              "    </tr>\n",
              "    <tr>\n",
              "      <th>14</th>\n",
              "      <td>26</td>\n",
              "      <td>admin.</td>\n",
              "      <td>married</td>\n",
              "      <td>Technological_school</td>\n",
              "      <td>4</td>\n",
              "      <td>no</td>\n",
              "      <td>no</td>\n",
              "      <td>yes</td>\n",
              "      <td>93561</td>\n",
              "      <td>0</td>\n",
              "      <td>5</td>\n",
              "      <td>telephone</td>\n",
              "      <td>jun</td>\n",
              "      <td>mon</td>\n",
              "      <td>1021</td>\n",
              "      <td>23</td>\n",
              "      <td>0</td>\n",
              "      <td>858</td>\n",
              "      <td>0</td>\n",
              "    </tr>\n",
              "    <tr>\n",
              "      <th>15</th>\n",
              "      <td>52</td>\n",
              "      <td>services</td>\n",
              "      <td>married</td>\n",
              "      <td>Technological_school</td>\n",
              "      <td>3</td>\n",
              "      <td>unknown</td>\n",
              "      <td>yes</td>\n",
              "      <td>no</td>\n",
              "      <td>365643</td>\n",
              "      <td>0</td>\n",
              "      <td>2</td>\n",
              "      <td>cellular</td>\n",
              "      <td>jul</td>\n",
              "      <td>thu</td>\n",
              "      <td>117</td>\n",
              "      <td>54</td>\n",
              "      <td>0</td>\n",
              "      <td>1342</td>\n",
              "      <td>0</td>\n",
              "    </tr>\n",
              "    <tr>\n",
              "      <th>16</th>\n",
              "      <td>35</td>\n",
              "      <td>services</td>\n",
              "      <td>married</td>\n",
              "      <td>Technological_school</td>\n",
              "      <td>8</td>\n",
              "      <td>no</td>\n",
              "      <td>no</td>\n",
              "      <td>no</td>\n",
              "      <td>0</td>\n",
              "      <td>0</td>\n",
              "      <td>1</td>\n",
              "      <td>cellular</td>\n",
              "      <td>apr</td>\n",
              "      <td>thu</td>\n",
              "      <td>1034</td>\n",
              "      <td>0</td>\n",
              "      <td>0</td>\n",
              "      <td>1880</td>\n",
              "      <td>1</td>\n",
              "    </tr>\n",
              "    <tr>\n",
              "      <th>17</th>\n",
              "      <td>27</td>\n",
              "      <td>admin.</td>\n",
              "      <td>single</td>\n",
              "      <td>university.degree</td>\n",
              "      <td>3</td>\n",
              "      <td>no</td>\n",
              "      <td>no</td>\n",
              "      <td>no</td>\n",
              "      <td>0</td>\n",
              "      <td>0</td>\n",
              "      <td>2</td>\n",
              "      <td>telephone</td>\n",
              "      <td>oct</td>\n",
              "      <td>tue</td>\n",
              "      <td>540</td>\n",
              "      <td>0</td>\n",
              "      <td>0</td>\n",
              "      <td>1972</td>\n",
              "      <td>1</td>\n",
              "    </tr>\n",
              "    <tr>\n",
              "      <th>18</th>\n",
              "      <td>28</td>\n",
              "      <td>blue-collar</td>\n",
              "      <td>married</td>\n",
              "      <td>tecnical_school</td>\n",
              "      <td>7</td>\n",
              "      <td>unknown</td>\n",
              "      <td>no</td>\n",
              "      <td>no</td>\n",
              "      <td>0</td>\n",
              "      <td>0</td>\n",
              "      <td>0</td>\n",
              "      <td>telephone</td>\n",
              "      <td>may</td>\n",
              "      <td>thu</td>\n",
              "      <td>140</td>\n",
              "      <td>0</td>\n",
              "      <td>0</td>\n",
              "      <td>308</td>\n",
              "      <td>0</td>\n",
              "    </tr>\n",
              "    <tr>\n",
              "      <th>19</th>\n",
              "      <td>26</td>\n",
              "      <td>unemployed</td>\n",
              "      <td>single</td>\n",
              "      <td>tecnical_school</td>\n",
              "      <td>1</td>\n",
              "      <td>yes</td>\n",
              "      <td>yes</td>\n",
              "      <td>yes</td>\n",
              "      <td>113637</td>\n",
              "      <td>45</td>\n",
              "      <td>1</td>\n",
              "      <td>cellular</td>\n",
              "      <td>jul</td>\n",
              "      <td>mon</td>\n",
              "      <td>104</td>\n",
              "      <td>28</td>\n",
              "      <td>0</td>\n",
              "      <td>286</td>\n",
              "      <td>0</td>\n",
              "    </tr>\n",
              "  </tbody>\n",
              "</table>\n",
              "</div>"
            ],
            "text/plain": [
              "    edad      trabajo estado_civil   ... anterior_contacto  numero_empleados si_no\n",
              "0     44  blue-collar       married  ...                 0                88     0\n",
              "1     53   technician       married  ...                 0                14     0\n",
              "2     28   management        single  ...                 2              1993     1\n",
              "3     39     services       married  ...                 0              1338     0\n",
              "4     55      retired       married  ...                 1              1184     1\n",
              "5     30   management      divorced  ...                 0              1553     0\n",
              "6     37  blue-collar       married  ...                 0               442     0\n",
              "7     39  blue-collar      divorced  ...                 0               495     0\n",
              "8     36       admin.       married  ...                 1              1097     1\n",
              "9     27  blue-collar        single  ...                 1               414     0\n",
              "10    34    housemaid        single  ...                 0              1600     0\n",
              "11    41   management       married  ...                 0              1630     0\n",
              "12    55   management       married  ...                 0              1515     1\n",
              "13    33     services      divorced  ...                 0               388     0\n",
              "14    26       admin.       married  ...                 0               858     0\n",
              "15    52     services       married  ...                 0              1342     0\n",
              "16    35     services       married  ...                 0              1880     1\n",
              "17    27       admin.        single  ...                 0              1972     1\n",
              "18    28  blue-collar       married  ...                 0               308     0\n",
              "19    26   unemployed        single  ...                 0               286     0\n",
              "\n",
              "[20 rows x 19 columns]"
            ]
          },
          "metadata": {},
          "execution_count": 6
        }
      ]
    },
    {
      "cell_type": "markdown",
      "metadata": {
        "id": "n4tdp4xETds2"
      },
      "source": [
        "# **Cuantos datos tenemos**"
      ]
    },
    {
      "cell_type": "code",
      "metadata": {
        "colab": {
          "base_uri": "https://localhost:8080/"
        },
        "id": "gGgXNNpFU77W",
        "outputId": "ab371de1-f9e0-478f-b671-cb5c483b6ea9"
      },
      "source": [
        "df.shape"
      ],
      "execution_count": 7,
      "outputs": [
        {
          "output_type": "execute_result",
          "data": {
            "text/plain": [
              "(41188, 19)"
            ]
          },
          "metadata": {},
          "execution_count": 7
        }
      ]
    },
    {
      "cell_type": "markdown",
      "metadata": {
        "id": "RGh11eB6VNxh"
      },
      "source": [
        "# **Datos:**  Edad, Educación, prestamo personal, Tarjetas de credito, numero de empleados y si_no"
      ]
    },
    {
      "cell_type": "code",
      "metadata": {
        "colab": {
          "base_uri": "https://localhost:8080/"
        },
        "id": "K8E7I6DqV1rR",
        "outputId": "e8d23293-f903-418c-8b17-07319d844aa6"
      },
      "source": [
        "lista_educacion=list(df['educacion'].value_counts().index)\n",
        "print(lista_educacion)\n",
        "print(\"\")"
      ],
      "execution_count": 18,
      "outputs": [
        {
          "output_type": "stream",
          "name": "stdout",
          "text": [
            "['university.degree', 'Technological_school', 'tecnical_school', 'professional.course', 'preschool', 'primary_school', 'unknown', 'illiterate']\n",
            "\n"
          ]
        }
      ]
    },
    {
      "cell_type": "code",
      "metadata": {
        "colab": {
          "base_uri": "https://localhost:8080/"
        },
        "id": "Bc-x_6UuXh6l",
        "outputId": "f51dab24-dd5a-4501-d9fd-81a2c0943789"
      },
      "source": [
        "lista_prestamo_personal=list(df['prestamo_personal'].value_counts().index)\n",
        "print(lista_prestamo_personal)\n",
        "print(\"\")"
      ],
      "execution_count": 19,
      "outputs": [
        {
          "output_type": "stream",
          "name": "stdout",
          "text": [
            "['no', 'yes', 'unknown']\n",
            "\n"
          ]
        }
      ]
    },
    {
      "cell_type": "code",
      "metadata": {
        "colab": {
          "base_uri": "https://localhost:8080/"
        },
        "id": "N3He1NiWawW9",
        "outputId": "2cafb687-8570-4b53-f471-976e5196419c"
      },
      "source": [
        "lista_tarjetas_credito=list(df['tarjetas_credito'].value_counts().index)\n",
        "print(lista_tarjetas_credito)\n",
        "print(\"\")"
      ],
      "execution_count": 20,
      "outputs": [
        {
          "output_type": "stream",
          "name": "stdout",
          "text": [
            "[3, 1, 2, 5, 0, 4]\n",
            "\n"
          ]
        }
      ]
    },
    {
      "cell_type": "code",
      "metadata": {
        "colab": {
          "base_uri": "https://localhost:8080/"
        },
        "id": "pDKRSywnbYlc",
        "outputId": "9f94bb34-2747-4313-f827-ab2b7d445439"
      },
      "source": [
        "lista_numero_empleados=list(df['numero_empleados'].value_counts().index)\n",
        "print(lista_numero_empleados)\n",
        "print(\"\")"
      ],
      "execution_count": 21,
      "outputs": [
        {
          "output_type": "stream",
          "name": "stdout",
          "text": [
            "[132, 1612, 1625, 1032, 546, 1059, 987, 1259, 1185, 95, 659, 1011, 966, 1115, 1522, 299, 1211, 434, 1205, 783, 911, 174, 506, 1796, 1759, 1301, 1009, 120, 1934, 1135, 485, 1820, 995, 1842, 1634, 1921, 805, 947, 1338, 1050, 1843, 1501, 791, 1097, 1375, 989, 1832, 112, 1389, 641, 1704, 970, 1344, 651, 1529, 422, 871, 414, 1777, 316, 533, 1350, 396, 845, 1086, 392, 126, 1044, 764, 393, 1131, 1502, 1102, 842, 78, 787, 1452, 1507, 767, 922, 608, 1967, 505, 650, 1594, 1702, 1686, 1603, 207, 714, 38, 1793, 1319, 1949, 782, 1780, 1049, 131, 440, 746, 1774, 1924, 936, 1787, 835, 604, 406, 1892, 941, 738, 1668, 1984, 806, 1643, 519, 455, 809, 634, 1803, 1228, 1631, 1274, 800, 32, 1046, 1146, 40, 781, 647, 375, 1551, 880, 384, 1654, 618, 1724, 1255, 1755, 707, 1688, 973, 147, 1481, 515, 196, 784, 119, 1836, 988, 790, 1580, 1380, 1130, 997, 272, 921, 172, 236, 1290, 759, 1841, 1500, 313, 1002, 590, 1867, 733, 489, 872, 352, 1870, 762, 1607, 690, 1986, 395, 1678, 1376, 821, 218, 664, 1901, 1579, 584, 1860, 528, 681, 1812, 1553, 1248, 1143, 175, 564, 1808, 514, 1585, 256, 123, 1120, 1810, 1714, 1403, 442, 1923, 474, 946, 59, 507, 731, 785, 586, 1545, 105, 1265, 27, 1307, 688, 1001, 307, 1298, 18, 339, 81, 1057, 517, 1152, 1329, 1161, 1617, 1946, 1302, 572, 1762, 1198, 589, 525, 1922, 215, 1725, 108, 1469, 1806, 1838, 65, 79, 756, 267, 615, 1268, 222, 692, 1760, 1581, 1613, 1461, 725, 1287, 1815, 1451, 1879, 110, 142, 1927, 56, 136, 200, 264, 1047, 968, 1080, 1386, 448, 704, 1539, 1800, 886, 1404, 460, 1281, 1555, 1750, 121, 89, 1176, 1285, 1215, 308, 532, 1811, 1450, 1784, 1514, 285, 1875, 2, 927, 1055, 1974, 577, 873, 1685, 530, 423, 1622, 1082, 402, 1109, 1010, 1111, 1527, 965, 441, 1768, 1017, 1736, 217, 1221, 25, 1608, 1779, 1907, 212, 1497, 137, 210, 1785, 1108, 1140, 793, 1204, 277, 774, 661, 274, 635, 1065, 1675, 990, 1052, 1795, 1483, 1611, 668, 560, 36, 100, 351, 1645, 976, 701, 388, 1232, 1456, 1325, 1776, 1443, 1387, 1468, 702, 43, 1610, 107, 111, 1277, 445, 1890, 317, 1006, 1600, 288, 1487, 1852, 1660, 1647, 1315, 638, 159, 1802, 300, 511, 1028, 1899, 1900, 1124, 817, 1297, 689, 859, 1727, 1809, 1978, 1562, 1444, 1412, 950, 71, 1000, 1247, 1814, 1697, 1569, 982, 614, 271, 248, 99, 712, 1505, 1663, 312, 654, 718, 798, 1492, 1582, 1558, 1070, 619, 1791, 24, 1133, 598, 807, 1303, 737, 1239, 1453, 96, 1479, 1909, 853, 1822, 44, 1141, 1229, 127, 1159, 343, 607, 206, 1655, 1186, 45, 342, 1895, 1150, 1735, 237, 365, 310, 1026, 278, 994, 1470, 934, 1543, 1240, 371, 1738, 2000, 1993, 644, 19, 420, 275, 512, 1072, 1258, 1008, 912, 164, 819, 874, 240, 769, 401, 836, 465, 868, 1540, 1434, 1626, 257, 1649, 1828, 1092, 1041, 818, 378, 1206, 978, 649, 617, 1170, 1162, 1036, 413, 1491, 1765, 1512, 1560, 1976, 1980, 541, 1733, 1322, 1192, 1123, 1263, 404, 975, 1427, 771, 1711, 1432, 1912, 529, 1973, 521, 1550, 173, 1172, 808, 1449, 653, 1807, 331, 969, 1866, 1110, 1888, 812, 372, 171, 1425, 1708, 1353, 1201, 1516, 425, 180, 1169, 1644, 113, 683, 1063, 1423, 622, 41, 1739, 816, 9, 682, 1805, 1043, 366, 336, 1107, 1171, 373, 270, 949, 1013, 1748, 233, 1781, 209, 1999, 909, 1429, 488, 960, 1104, 1952, 201, 1771, 942, 1447, 1712, 146, 438, 450, 735, 287, 319, 383, 5, 828, 1977, 26, 1827, 90, 1891, 1125, 282, 1944, 1698, 318, 1126, 1764, 705, 1732, 956, 1079, 345, 1340, 1054, 958, 766, 1911, 1241, 1756, 729, 665, 869, 1666, 192, 1817, 1061, 1308, 1950, 1399, 998, 1957, 390, 1081, 358, 952, 548, 1818, 667, 708, 1910, 379, 1878, 55, 91, 1409, 1590, 1496, 187, 1156, 1377, 891, 1658, 1413, 439, 1318, 1382, 1334, 1752, 6, 166, 1541, 1178, 1213, 1023, 1306, 1797, 547, 1861, 1770, 943, 851, 979, 773, 1331, 1896, 1661, 1464, 163, 1416, 377, 1288, 20, 1341, 925, 1317, 1071, 353, 1345, 675, 202, 1883, 498, 1851, 356, 1018, 338, 1627, 242, 1200, 1616, 841, 1435, 1914, 1865, 1457, 241, 337, 544, 1705, 1073, 858, 666, 627, 1689, 531, 499, 157, 867, 1359, 963, 416, 1184, 1216, 1753, 410, 1746, 297, 1699, 1586, 1084, 1490, 4, 314, 1504, 436, 1256, 838, 386, 397, 1557, 1856, 162, 855, 1333, 887, 749, 919, 1005, 1037, 1101, 1127, 902, 1918, 1824, 1751, 1566, 469, 1677, 1058, 1991, 8, 1975, 703, 140, 1214, 1548, 1100, 1855, 1894, 64, 1798, 918, 1526, 295, 1846, 1484, 551, 502, 935, 1311, 1761, 268, 991, 1985, 1964, 13, 831, 54, 775, 471, 72, 699, 1933, 1821, 648, 696, 910, 326, 30, 1556, 134, 462, 884, 568, 408, 820, 984, 1506, 1917, 520, 1422, 1419, 555, 827, 1313, 1328, 1151, 1296, 1134, 974, 1181, 1659, 516, 961, 15, 259, 1513, 932, 291, 944, 1025, 1757, 1769, 305, 330, 1388, 1858, 804, 1833, 1358, 1373, 1601, 1929, 1840, 1646, 1164, 1439, 1019, 907, 1614, 234, 1520, 1676, 1979, 893, 669, 1226, 1726, 451, 898, 1379, 1089, 398, 1951, 1743, 1532, 1615, 1354, 523, 1455, 1709, 1374, 238, 125, 1310, 1246, 1642, 573, 803, 739, 610, 387, 461, 1931, 1118, 382, 228, 156, 493, 510, 355, 252, 194, 412, 1955, 591, 418, 542, 464, 906, 1930, 813, 1602, 1898, 161, 1323, 1020, 494, 427, 539, 603, 289, 360, 1074, 1042, 951, 1351, 777, 709, 1960, 727, 695, 889, 986, 536, 1928, 306, 211, 928, 1864, 768, 992, 328, 744, 723, 678, 293, 341, 1863, 1831, 1719, 265, 357, 329, 1618, 1554, 646, 421, 280, 1881, 1591, 1266, 789, 1335, 1093, 1210, 82, 1939, 1882, 183, 1880, 225, 87, 1056, 1480, 1349, 487, 1048, 263, 1060, 1862, 1105, 1829, 1430, 1958, 103, 102, 1972, 1016, 920, 980, 86, 1157, 1745, 1850, 1722, 711, 599, 1681, 94, 894, 1908, 1693, 1794, 1346, 1518, 1096, 88, 939, 1272, 468, 776, 550, 417, 734, 376, 1826, 1716, 33, 792, 518, 1652, 424, 628, 1639, 21, 631, 333, 535, 503, 799, 204, 109, 77, 895, 743, 1996, 679, 214, 1868, 1857, 332, 1638, 940, 534, 630, 1734, 1599, 492, 716, 748, 1887, 34, 429, 1965, 1589, 85, 309, 742, 866, 1549, 802, 1703, 629, 1421, 1357, 244, 482, 1197, 63, 981, 1015, 983, 290, 1237, 258, 1269, 823, 76, 575, 1493, 1128, 195, 1696, 656, 1572, 458, 484, 1136, 1033, 993, 905, 786, 92, 745, 346, 186, 154, 426, 122, 672, 700, 400, 368, 796, 1954, 924, 1098, 1475, 1935, 1657, 1466, 394, 115, 1361, 945, 1417, 721, 571, 39, 625, 1385, 923, 433, 1233, 1188, 1284, 219, 50, 1321, 1961, 1275, 1968, 10, 1371, 170, 1648, 1873, 1905, 1937, 1690, 1593, 860, 1679, 139, 1039, 1578, 477, 755, 509, 857, 1299, 1962, 1994, 829, 1395, 303, 595, 957, 1021, 1640, 143, 1117, 1149, 913, 1902, 1352, 385, 35, 1546, 883, 197, 1568, 1155, 1465, 1433, 1884, 1238, 467, 1636, 37, 772, 1316, 1574, 1700, 1189, 779, 583, 1122, 361, 1737, 364, 389, 513, 1355, 1609, 69, 167, 549, 169, 1090, 1605, 101, 740, 673, 1988, 1035, 1604, 1094, 66, 1410, 1062, 581, 710, 481, 1859, 449, 1003, 73, 325, 322, 1730, 1314, 1348, 138, 11, 42, 582, 75, 1482, 1775, 1424, 847, 797, 825, 1332, 637, 1583, 1839, 1903, 1012, 948, 189, 93, 985, 500, 432, 1337, 1428, 1588, 1304, 601, 1486, 1528, 597, 158, 1656, 1981, 1885, 431, 405, 245, 181, 559, 249, 719, 751, 1401, 624, 720, 1168, 1874, 1723, 849, 1362, 347, 1234, 1489, 411, 1138, 1106, 443, 1969, 114, 178, 576, 369, 273, 915, 602, 1747, 1945, 1651, 1276, 1212, 1148, 1552, 348, 1459, 1363, 540, 508, 1936, 1139, 1400, 1597, 1293, 1142, 1792, 302, 632, 246, 1790, 1854, 758, 1069, 877, 1783, 685, 301, 269, 1804, 896, 1174, 1740, 1420, 1356, 1463, 1292, 832, 1183, 1260, 1471, 311, 1068, 279, 526, 722, 1749, 1294, 1877, 1621, 1717, 1173, 750, 814, 846, 1653, 824, 1438, 686, 1662, 856, 501, 1530, 1242, 563, 1767, 1112, 321, 1203, 640, 890, 1431, 1941, 663, 1682, 283, 964, 996, 1414, 713, 885, 1575, 1286, 757, 1202, 1718, 1671, 1330, 609, 1559, 1271, 1095, 230, 1267, 486, 726, 660, 504, 662, 833, 904, 852, 374, 1623, 569, 1236, 728, 741, 118, 1364, 1460, 1273, 1844, 261, 1925, 698, 1396, 1687, 152, 1587, 216, 1956, 1715, 359, 658, 1845, 1971, 133, 391, 281, 1989, 1606, 795, 1536, 879, 861, 1099, 834, 605, 579, 558, 1291, 381, 144, 1165, 1034, 46, 1694, 1, 674, 1027, 1997, 1869, 1837, 1598, 1405, 1437, 1533, 1282, 459, 1442, 1538, 1570, 606, 1326, 478, 1262, 350, 1853, 1789, 747, 527, 1728, 128, 655, 320, 1534, 848, 810, 1673, 380, 415, 188, 1932, 447, 98, 1324, 959, 753, 588, 452, 1563, 1510, 1467, 1473, 1132, 876, 1051, 177, 1154, 255, 1731, 1596, 1187, 490, 191, 1360, 1963, 1995, 1920, 223, 1584, 266, 892, 476, 1744, 1144, 1441, 294, 1630, 870, 1119, 1022, 454, 1889, 262, 1495, 642, 1182, 1158, 198, 70, 930, 1175, 671, 770, 1342, 1982, 409, 1893, 1498, 1628, 1849, 1219, 250, 570, 1372, 444, 1987, 284, 1114, 1370, 1402, 124, 1091, 60, 155, 1915, 1252, 315, 1595, 1499, 676, 1339, 1243, 1179, 1147, 1721, 229, 1218, 837, 1592, 1573, 62, 1509, 1445, 1848, 57, 153, 955, 537, 633, 1245, 1085, 1692, 697, 419, 765, 483, 953, 643, 801, 61, 931, 29, 1145, 1305, 612, 972, 1959, 1641, 687, 561, 623, 495, 399, 276, 235, 1137, 1191, 1813, 1742, 232, 52, 1390, 1834, 1801, 145, 49, 1167, 1231, 437, 1938, 724, 213, 1440, 916, 1872, 1300, 74, 938, 1620, 150, 151, 811, 937, 1778, 1650, 1670, 1942, 691, 1075, 620, 1462, 1398, 553, 428, 566, 1990, 717, 296, 1261, 1517, 1312, 466, 1320, 1521, 334, 1038, 1904, 1635, 1667, 1763, 193, 251, 1393, 977, 657, 1257, 1220, 626, 1458, 1947, 1280, 593, 1897, 220, 754, 850, 247, 298, 1251, 491, 587, 1406, 875, 1163, 706, 1773, 1741, 31, 141, 543, 130, 524, 1953, 652, 1249, 1729, 1665, 1407, 908, 1695, 1378, 830, 1966, 1519, 592, 778, 496, 1788, 208, 253, 16, 1194, 611, 1418, 1664, 1103, 1007, 97, 815, 67, 3, 335, 203, 239, 1906, 1078, 51, 1253, 1511, 565, 1624, 1799, 1477, 1381, 1024, 148, 168, 616, 788, 1064, 1177, 1209, 1077, 545, 736, 1365, 1031, 999, 967, 182, 470, 344, 327, 1014, 7, 1367, 1207, 23, 1446, 1369, 1637, 1448, 116, 730, 179, 1523, 1683, 84, 794, 903, 1619, 882, 926, 670, 888, 1250, 760, 47, 1576, 1383, 260, 1336, 1368, 562, 1701, 227, 323, 1476, 1713, 1199, 914, 1577, 1166, 1366, 1478, 1567, 1754, 1537, 929, 407, 1343, 684, 1254, 556, 479, 1225, 1772, 354, 621, 199, 1886, 231, 1217, 1847, 1547, 1067, 971, 881, 1327, 473, 1561, 677, 1940, 1076, 554, 522, 1264, 1531, 1283, 304, 1564, 552, 1524, 1116, 1244, 1684, 933, 1029, 185, 1472, 1113, 149, 349, 48, 1160, 176, 1289, 117, 28, 1121, 1913, 1871, 1004, 1819, 243, 205, 226, 1571, 954, 1680, 639, 780, 165, 1535, 340, 863, 1503, 1926, 1087, 1494, 854, 1196, 897, 1279, 1782, 1222, 1411, 1180, 538, 1672, 1384, 1223, 224, 763, 190, 580, 1629, 1943, 1045, 693, 221, 1674, 1669, 1053, 1816, 1876, 1040, 160, 472, 14, 822, 1227, 362, 1720, 457, 1392, 367, 694, 843, 1436, 715, 1454, 839, 1153, 1632, 1088, 480, 864, 1983, 1633, 80, 1992, 585, 106, 1066, 1707, 1835, 557, 878, 1710, 1391, 17, 1224, 497, 594, 1426, 435, 596, 53, 600, 1208, 732, 1823, 1544, 0, 645, 456, 1542, 1508, 1766, 962, 826, 1083, 1825, 1786, 613, 865, 680, 1488, 761, 899, 1270, 840, 68, 58, 430, 574, 1706, 1758, 1415, 135, 1129, 1193, 1830, 1485, 292, 1195, 1948, 12, 844, 1030, 254, 1565, 1474, 567, 1525, 636, 1235, 463, 1408, 900, 1190, 901, 129, 1998, 752, 453, 363, 1394, 104, 184, 370, 1278, 475, 578, 1397, 917, 403, 1515, 1919, 446, 286, 1691, 1916, 1295, 324, 1347, 83, 1970, 862, 22, 1309, 1230]\n",
            "\n"
          ]
        }
      ]
    },
    {
      "cell_type": "code",
      "metadata": {
        "colab": {
          "base_uri": "https://localhost:8080/"
        },
        "id": "5gGwWgGVcNTb",
        "outputId": "1c7d61ee-e213-4b34-b897-4ff8270f2208"
      },
      "source": [
        "lista_si_no=list(df['si_no'].value_counts().index)\n",
        "print(lista_si_no)\n",
        "print(\"\")"
      ],
      "execution_count": 22,
      "outputs": [
        {
          "output_type": "stream",
          "name": "stdout",
          "text": [
            "[0, 1]\n",
            "\n"
          ]
        }
      ]
    },
    {
      "cell_type": "code",
      "metadata": {
        "id": "DROIAUAFfsI0"
      },
      "source": [
        "from sklearn import preprocessing\n",
        "le =preprocessing.LabelEncoder()"
      ],
      "execution_count": 23,
      "outputs": []
    },
    {
      "cell_type": "code",
      "metadata": {
        "colab": {
          "base_uri": "https://localhost:8080/"
        },
        "id": "H6ED0Vj6fyx2",
        "outputId": "6e77e3bd-5be0-4d11-adb7-0c56a4094228"
      },
      "source": [
        "le.fit(df['educacion'])  \n",
        "list(le.classes_)"
      ],
      "execution_count": 25,
      "outputs": [
        {
          "output_type": "execute_result",
          "data": {
            "text/plain": [
              "['Technological_school',\n",
              " 'illiterate',\n",
              " 'preschool',\n",
              " 'primary_school',\n",
              " 'professional.course',\n",
              " 'tecnical_school',\n",
              " 'university.degree',\n",
              " 'unknown']"
            ]
          },
          "metadata": {},
          "execution_count": 25
        }
      ]
    },
    {
      "cell_type": "code",
      "metadata": {
        "colab": {
          "base_uri": "https://localhost:8080/"
        },
        "id": "WYMJwL5qgBzX",
        "outputId": "5a073dc9-cb82-403f-9475-16272a1f12c9"
      },
      "source": [
        "le.transform(df['educacion'])"
      ],
      "execution_count": 26,
      "outputs": [
        {
          "output_type": "execute_result",
          "data": {
            "text/plain": [
              "array([2, 7, 6, ..., 6, 4, 0])"
            ]
          },
          "metadata": {},
          "execution_count": 26
        }
      ]
    },
    {
      "cell_type": "code",
      "metadata": {
        "id": "WO3X07s-gcj_"
      },
      "source": [
        "df['prestamo_personal']=le.fit_transform(df['prestamo_personal']) \n",
        "##df['tarjetas_credito ']=le.fit_transform(df['tarjetas_credito '])\n",
        "df['numero_empleados']=le.fit_transform(df['numero_empleados'])\n",
        "df['si_no']=le.fit_transform(df['si_no'])"
      ],
      "execution_count": 28,
      "outputs": []
    },
    {
      "cell_type": "code",
      "metadata": {
        "colab": {
          "base_uri": "https://localhost:8080/",
          "height": 317
        },
        "id": "rD-WwMN5hM0F",
        "outputId": "45997110-bef6-434e-a4ae-330d653d8c80"
      },
      "source": [
        "df.describe()"
      ],
      "execution_count": 29,
      "outputs": [
        {
          "output_type": "execute_result",
          "data": {
            "text/html": [
              "<div>\n",
              "<style scoped>\n",
              "    .dataframe tbody tr th:only-of-type {\n",
              "        vertical-align: middle;\n",
              "    }\n",
              "\n",
              "    .dataframe tbody tr th {\n",
              "        vertical-align: top;\n",
              "    }\n",
              "\n",
              "    .dataframe thead th {\n",
              "        text-align: right;\n",
              "    }\n",
              "</style>\n",
              "<table border=\"1\" class=\"dataframe\">\n",
              "  <thead>\n",
              "    <tr style=\"text-align: right;\">\n",
              "      <th></th>\n",
              "      <th>edad</th>\n",
              "      <th>total_hijos</th>\n",
              "      <th>prestamo_personal</th>\n",
              "      <th>valor_prestamo</th>\n",
              "      <th>dias_ultimo_pago</th>\n",
              "      <th>tarjetas_credito</th>\n",
              "      <th>duracion_ultimo_contacto</th>\n",
              "      <th>dias_ultimo_contacto</th>\n",
              "      <th>anterior_contacto</th>\n",
              "      <th>numero_empleados</th>\n",
              "      <th>si_no</th>\n",
              "    </tr>\n",
              "  </thead>\n",
              "  <tbody>\n",
              "    <tr>\n",
              "      <th>count</th>\n",
              "      <td>41188.00000</td>\n",
              "      <td>41188.000000</td>\n",
              "      <td>41188.000000</td>\n",
              "      <td>41188.000000</td>\n",
              "      <td>41188.000000</td>\n",
              "      <td>41188.000000</td>\n",
              "      <td>41188.000000</td>\n",
              "      <td>41188.00000</td>\n",
              "      <td>41188.000000</td>\n",
              "      <td>41188.000000</td>\n",
              "      <td>41188.000000</td>\n",
              "    </tr>\n",
              "    <tr>\n",
              "      <th>mean</th>\n",
              "      <td>40.02406</td>\n",
              "      <td>3.984680</td>\n",
              "      <td>0.327425</td>\n",
              "      <td>149706.676751</td>\n",
              "      <td>0.336409</td>\n",
              "      <td>2.497524</td>\n",
              "      <td>258.285010</td>\n",
              "      <td>26.35117</td>\n",
              "      <td>0.172963</td>\n",
              "      <td>1002.421652</td>\n",
              "      <td>0.112654</td>\n",
              "    </tr>\n",
              "    <tr>\n",
              "      <th>std</th>\n",
              "      <td>10.42125</td>\n",
              "      <td>2.583405</td>\n",
              "      <td>0.723616</td>\n",
              "      <td>166028.840792</td>\n",
              "      <td>4.478984</td>\n",
              "      <td>1.703683</td>\n",
              "      <td>259.279249</td>\n",
              "      <td>29.94257</td>\n",
              "      <td>0.494901</td>\n",
              "      <td>577.707188</td>\n",
              "      <td>0.316173</td>\n",
              "    </tr>\n",
              "    <tr>\n",
              "      <th>min</th>\n",
              "      <td>17.00000</td>\n",
              "      <td>0.000000</td>\n",
              "      <td>0.000000</td>\n",
              "      <td>0.000000</td>\n",
              "      <td>0.000000</td>\n",
              "      <td>0.000000</td>\n",
              "      <td>0.000000</td>\n",
              "      <td>0.00000</td>\n",
              "      <td>0.000000</td>\n",
              "      <td>0.000000</td>\n",
              "      <td>0.000000</td>\n",
              "    </tr>\n",
              "    <tr>\n",
              "      <th>25%</th>\n",
              "      <td>32.00000</td>\n",
              "      <td>2.000000</td>\n",
              "      <td>0.000000</td>\n",
              "      <td>0.000000</td>\n",
              "      <td>0.000000</td>\n",
              "      <td>1.000000</td>\n",
              "      <td>102.000000</td>\n",
              "      <td>0.00000</td>\n",
              "      <td>0.000000</td>\n",
              "      <td>504.000000</td>\n",
              "      <td>0.000000</td>\n",
              "    </tr>\n",
              "    <tr>\n",
              "      <th>50%</th>\n",
              "      <td>38.00000</td>\n",
              "      <td>4.000000</td>\n",
              "      <td>0.000000</td>\n",
              "      <td>81778.500000</td>\n",
              "      <td>0.000000</td>\n",
              "      <td>2.000000</td>\n",
              "      <td>180.000000</td>\n",
              "      <td>13.00000</td>\n",
              "      <td>0.000000</td>\n",
              "      <td>1001.000000</td>\n",
              "      <td>0.000000</td>\n",
              "    </tr>\n",
              "    <tr>\n",
              "      <th>75%</th>\n",
              "      <td>47.00000</td>\n",
              "      <td>6.000000</td>\n",
              "      <td>0.000000</td>\n",
              "      <td>290938.500000</td>\n",
              "      <td>0.000000</td>\n",
              "      <td>4.000000</td>\n",
              "      <td>319.000000</td>\n",
              "      <td>52.00000</td>\n",
              "      <td>0.000000</td>\n",
              "      <td>1506.000000</td>\n",
              "      <td>0.000000</td>\n",
              "    </tr>\n",
              "    <tr>\n",
              "      <th>max</th>\n",
              "      <td>98.00000</td>\n",
              "      <td>8.000000</td>\n",
              "      <td>2.000000</td>\n",
              "      <td>499992.000000</td>\n",
              "      <td>90.000000</td>\n",
              "      <td>5.000000</td>\n",
              "      <td>4918.000000</td>\n",
              "      <td>90.00000</td>\n",
              "      <td>7.000000</td>\n",
              "      <td>2000.000000</td>\n",
              "      <td>1.000000</td>\n",
              "    </tr>\n",
              "  </tbody>\n",
              "</table>\n",
              "</div>"
            ],
            "text/plain": [
              "              edad   total_hijos  ...  numero_empleados         si_no\n",
              "count  41188.00000  41188.000000  ...      41188.000000  41188.000000\n",
              "mean      40.02406      3.984680  ...       1002.421652      0.112654\n",
              "std       10.42125      2.583405  ...        577.707188      0.316173\n",
              "min       17.00000      0.000000  ...          0.000000      0.000000\n",
              "25%       32.00000      2.000000  ...        504.000000      0.000000\n",
              "50%       38.00000      4.000000  ...       1001.000000      0.000000\n",
              "75%       47.00000      6.000000  ...       1506.000000      0.000000\n",
              "max       98.00000      8.000000  ...       2000.000000      1.000000\n",
              "\n",
              "[8 rows x 11 columns]"
            ]
          },
          "metadata": {},
          "execution_count": 29
        }
      ]
    },
    {
      "cell_type": "code",
      "metadata": {
        "colab": {
          "base_uri": "https://localhost:8080/"
        },
        "id": "FpU2aMnPhubI",
        "outputId": "3f38c353-b74a-4eac-a71a-eb353051acb3"
      },
      "source": [
        "df['tarjetas_credito'].mean()"
      ],
      "execution_count": 31,
      "outputs": [
        {
          "output_type": "execute_result",
          "data": {
            "text/plain": [
              "2.4975235505487037"
            ]
          },
          "metadata": {},
          "execution_count": 31
        }
      ]
    },
    {
      "cell_type": "code",
      "metadata": {
        "colab": {
          "base_uri": "https://localhost:8080/"
        },
        "id": "RHbtFSIoiCfN",
        "outputId": "e82a9496-02a3-43d0-ed4f-e4d0ad3dd47b"
      },
      "source": [
        "df['prestamo_personal'].mean()"
      ],
      "execution_count": 32,
      "outputs": [
        {
          "output_type": "execute_result",
          "data": {
            "text/plain": [
              "0.3274254637272992"
            ]
          },
          "metadata": {},
          "execution_count": 32
        }
      ]
    },
    {
      "cell_type": "code",
      "metadata": {
        "id": "Hf3rq1dCiSLz"
      },
      "source": [
        "from sklearn.metrics import accuracy_score\n",
        "from sklearn.linear_model import LogisticRegression"
      ],
      "execution_count": 33,
      "outputs": []
    },
    {
      "cell_type": "code",
      "metadata": {
        "id": "DqA78_3FiX2R"
      },
      "source": [
        "X = df.drop('si_no', axis=1)\n",
        "y = df.si_no\n",
        "\n",
        "x_train, x_test, y_train, y_test = train_test_split(X, y, random_state=42, test_size=0.20)"
      ],
      "execution_count": 34,
      "outputs": []
    },
    {
      "cell_type": "code",
      "metadata": {
        "id": "6H5jcmGAifH4"
      },
      "source": [
        "logistic_regression = LogisticRegression()\n"
      ],
      "execution_count": 39,
      "outputs": []
    }
  ]
}
{
  "nbformat": 4,
  "nbformat_minor": 0,
  "metadata": {
    "colab": {
      "name": "P1T3_notas.ipynb",
      "provenance": [],
      "collapsed_sections": []
    },
    "kernelspec": {
      "name": "python3",
      "display_name": "Python 3"
    },
    "language_info": {
      "name": "python"
    }
  },
  "cells": [
    {
      "cell_type": "markdown",
      "metadata": {
        "id": "SS66JyfCu2XY"
      },
      "source": [
        "Notas de estudiantes"
      ]
    },
    {
      "cell_type": "code",
      "metadata": {
        "colab": {
          "base_uri": "https://localhost:8080/"
        },
        "id": "croUuwTZqzOk",
        "outputId": "f3e9e63f-3e7f-472e-b739-6f4a6c8f21f1"
      },
      "source": [
        "losers, winers, prom = 0,0,0\n",
        "for i in range(0,40):\n",
        "  note = random.randint(0.0,5.0)\n",
        "  prom+=note\n",
        "  if note <= 2.9:\n",
        "    losers += 1\n",
        "  else:\n",
        "    winers += 1\n",
        "promf = int(prom)/40\n",
        "print(\"Pasaron: \"+str(winers)+\", perdieron: \"+str(losers)+\", promedio: \"+str(promf))"
      ],
      "execution_count": 12,
      "outputs": [
        {
          "output_type": "stream",
          "text": [
            "Pasaron: 16, perdieron: 24, promedio: 2.075\n"
          ],
          "name": "stdout"
        }
      ]
    }
  ]
}
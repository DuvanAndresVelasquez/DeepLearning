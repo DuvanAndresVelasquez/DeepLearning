{
  "nbformat": 4,
  "nbformat_minor": 0,
  "metadata": {
    "colab": {
      "name": "Dataset_prestamo_record.ipynb",
      "provenance": [],
      "collapsed_sections": []
    },
    "kernelspec": {
      "name": "python3",
      "display_name": "Python 3"
    },
    "language_info": {
      "name": "python"
    }
  },
  "cells": [
    {
      "cell_type": "code",
      "metadata": {
        "colab": {
          "base_uri": "https://localhost:8080/"
        },
        "id": "Fb8XCUxs85HR",
        "outputId": "6088a64e-5c3b-4e1e-d6b5-3fd5a154e298"
      },
      "source": [
        "import pandas as pd\n",
        "import matplotlib.pyplot as plt\n",
        "import numpy as np\n",
        "df = pd.read_csv(\"https://raw.githubusercontent.com/luisFernandoCastellanosG/Machine_learning/master/DataScience/DataSet's/prestamos_records.csv\")\n",
        "df.shape"
      ],
      "execution_count": 2,
      "outputs": [
        {
          "output_type": "execute_result",
          "data": {
            "text/plain": [
              "(8000, 7)"
            ]
          },
          "metadata": {},
          "execution_count": 2
        }
      ]
    },
    {
      "cell_type": "code",
      "metadata": {
        "colab": {
          "base_uri": "https://localhost:8080/"
        },
        "id": "Re7966x1-_8k",
        "outputId": "22ab71e9-7346-4a48-d47c-d55424fd265c"
      },
      "source": [
        "df_filter = df.fillna(0)\n",
        "print(df_filter.shape)\n"
      ],
      "execution_count": 3,
      "outputs": [
        {
          "output_type": "stream",
          "text": [
            "(8000, 7)\n"
          ],
          "name": "stdout"
        }
      ]
    },
    {
      "cell_type": "code",
      "metadata": {
        "colab": {
          "base_uri": "https://localhost:8080/",
          "height": 221
        },
        "id": "B7BzE7mR_P2u",
        "outputId": "cd36a7e9-d910-4f56-ce64-e280fc342b0b"
      },
      "source": [
        "df_filter.head()"
      ],
      "execution_count": 4,
      "outputs": [
        {
          "output_type": "execute_result",
          "data": {
            "text/html": [
              "<div>\n",
              "<style scoped>\n",
              "    .dataframe tbody tr th:only-of-type {\n",
              "        vertical-align: middle;\n",
              "    }\n",
              "\n",
              "    .dataframe tbody tr th {\n",
              "        vertical-align: top;\n",
              "    }\n",
              "\n",
              "    .dataframe thead th {\n",
              "        text-align: right;\n",
              "    }\n",
              "</style>\n",
              "<table border=\"1\" class=\"dataframe\">\n",
              "  <thead>\n",
              "    <tr style=\"text-align: right;\">\n",
              "      <th></th>\n",
              "      <th>RECORD_CREATION_DATE</th>\n",
              "      <th>MONTO_DEL_PRESTAMO</th>\n",
              "      <th>RANGO_DEL_CREDITO</th>\n",
              "      <th>DEUDA_EXISTENTE</th>\n",
              "      <th>NOTAS_DEL_AGENTE</th>\n",
              "      <th>UBICACION_DE_LA_OFICINA</th>\n",
              "      <th>PRESTAMO_INCUMPLIDO</th>\n",
              "    </tr>\n",
              "  </thead>\n",
              "  <tbody>\n",
              "    <tr>\n",
              "      <th>0</th>\n",
              "      <td>01May2014:09:24:27.000000</td>\n",
              "      <td>2500</td>\n",
              "      <td>760-779</td>\n",
              "      <td>$10,001-$20,000</td>\n",
              "      <td>0</td>\n",
              "      <td>NORTHERN CALIFORNIA</td>\n",
              "      <td>FALSO</td>\n",
              "    </tr>\n",
              "    <tr>\n",
              "      <th>1</th>\n",
              "      <td>01May2014:09:48:36.000000</td>\n",
              "      <td>2500</td>\n",
              "      <td>700-719</td>\n",
              "      <td>$1-$10,000</td>\n",
              "      <td>Ingreso anual neto: $25,400</td>\n",
              "      <td>SOUTHERN CALIFORNIA</td>\n",
              "      <td>FALSO</td>\n",
              "    </tr>\n",
              "    <tr>\n",
              "      <th>2</th>\n",
              "      <td>01May2014:10:10:36.000000</td>\n",
              "      <td>6300</td>\n",
              "      <td>740-759</td>\n",
              "      <td>$100,000+</td>\n",
              "      <td>0</td>\n",
              "      <td>ARIZONA</td>\n",
              "      <td>VERDADERO</td>\n",
              "    </tr>\n",
              "    <tr>\n",
              "      <th>3</th>\n",
              "      <td>01May2014:10:31:25.000000</td>\n",
              "      <td>4300</td>\n",
              "      <td>780-799</td>\n",
              "      <td>$1-$10,000</td>\n",
              "      <td>Ingreso anual neto: $191,900</td>\n",
              "      <td>SOUTHERN CALIFORNIA</td>\n",
              "      <td>FALSO</td>\n",
              "    </tr>\n",
              "    <tr>\n",
              "      <th>4</th>\n",
              "      <td>01May2014:10:46:54.000000</td>\n",
              "      <td>20100</td>\n",
              "      <td>780-799</td>\n",
              "      <td>$90,001-$100,000</td>\n",
              "      <td>Pagos mensuales de deuda verificados: $1,700</td>\n",
              "      <td>SOUTHERN CALIFORNIA</td>\n",
              "      <td>VERDADERO</td>\n",
              "    </tr>\n",
              "  </tbody>\n",
              "</table>\n",
              "</div>"
            ],
            "text/plain": [
              "        RECORD_CREATION_DATE  ...  PRESTAMO_INCUMPLIDO\n",
              "0  01May2014:09:24:27.000000  ...                FALSO\n",
              "1  01May2014:09:48:36.000000  ...                FALSO\n",
              "2  01May2014:10:10:36.000000  ...            VERDADERO\n",
              "3  01May2014:10:31:25.000000  ...                FALSO\n",
              "4  01May2014:10:46:54.000000  ...            VERDADERO\n",
              "\n",
              "[5 rows x 7 columns]"
            ]
          },
          "metadata": {},
          "execution_count": 4
        }
      ]
    },
    {
      "cell_type": "code",
      "metadata": {
        "colab": {
          "base_uri": "https://localhost:8080/",
          "height": 436
        },
        "id": "5eUSAbur_cll",
        "outputId": "873d1924-7409-4263-f9c8-bc7f55e16cce"
      },
      "source": [
        "df_filter[(df_filter['MONTO_DEL_PRESTAMO']>=2500) & (df_filter['PRESTAMO_INCUMPLIDO'].str.contains(\"FALSO\") & df_filter['UBICACION_DE_LA_OFICINA'].str.contains(\"SOUTHERN CALIFORNIA\"))]"
      ],
      "execution_count": 6,
      "outputs": [
        {
          "output_type": "execute_result",
          "data": {
            "text/html": [
              "<div>\n",
              "<style scoped>\n",
              "    .dataframe tbody tr th:only-of-type {\n",
              "        vertical-align: middle;\n",
              "    }\n",
              "\n",
              "    .dataframe tbody tr th {\n",
              "        vertical-align: top;\n",
              "    }\n",
              "\n",
              "    .dataframe thead th {\n",
              "        text-align: right;\n",
              "    }\n",
              "</style>\n",
              "<table border=\"1\" class=\"dataframe\">\n",
              "  <thead>\n",
              "    <tr style=\"text-align: right;\">\n",
              "      <th></th>\n",
              "      <th>RECORD_CREATION_DATE</th>\n",
              "      <th>MONTO_DEL_PRESTAMO</th>\n",
              "      <th>RANGO_DEL_CREDITO</th>\n",
              "      <th>DEUDA_EXISTENTE</th>\n",
              "      <th>NOTAS_DEL_AGENTE</th>\n",
              "      <th>UBICACION_DE_LA_OFICINA</th>\n",
              "      <th>PRESTAMO_INCUMPLIDO</th>\n",
              "    </tr>\n",
              "  </thead>\n",
              "  <tbody>\n",
              "    <tr>\n",
              "      <th>1</th>\n",
              "      <td>01May2014:09:48:36.000000</td>\n",
              "      <td>2500</td>\n",
              "      <td>700-719</td>\n",
              "      <td>$1-$10,000</td>\n",
              "      <td>Ingreso anual neto: $25,400</td>\n",
              "      <td>SOUTHERN CALIFORNIA</td>\n",
              "      <td>FALSO</td>\n",
              "    </tr>\n",
              "    <tr>\n",
              "      <th>3</th>\n",
              "      <td>01May2014:10:31:25.000000</td>\n",
              "      <td>4300</td>\n",
              "      <td>780-799</td>\n",
              "      <td>$1-$10,000</td>\n",
              "      <td>Ingreso anual neto: $191,900</td>\n",
              "      <td>SOUTHERN CALIFORNIA</td>\n",
              "      <td>FALSO</td>\n",
              "    </tr>\n",
              "    <tr>\n",
              "      <th>7</th>\n",
              "      <td>01May2014:11:53:24.000000</td>\n",
              "      <td>10000</td>\n",
              "      <td>760-779</td>\n",
              "      <td>$20,001-$30,000</td>\n",
              "      <td>0</td>\n",
              "      <td>SOUTHERN CALIFORNIA</td>\n",
              "      <td>FALSO</td>\n",
              "    </tr>\n",
              "    <tr>\n",
              "      <th>10</th>\n",
              "      <td>01May2014:12:52:26.000000</td>\n",
              "      <td>13000</td>\n",
              "      <td>720-739</td>\n",
              "      <td>$10,001-$20,000</td>\n",
              "      <td>0</td>\n",
              "      <td>SOUTHERN CALIFORNIA</td>\n",
              "      <td>FALSO</td>\n",
              "    </tr>\n",
              "    <tr>\n",
              "      <th>14</th>\n",
              "      <td>01May2014:13:57:11.000000</td>\n",
              "      <td>5900</td>\n",
              "      <td>780-799</td>\n",
              "      <td>$20,001-$30,000</td>\n",
              "      <td>0</td>\n",
              "      <td>SOUTHERN CALIFORNIA</td>\n",
              "      <td>FALSO</td>\n",
              "    </tr>\n",
              "    <tr>\n",
              "      <th>...</th>\n",
              "      <td>...</td>\n",
              "      <td>...</td>\n",
              "      <td>...</td>\n",
              "      <td>...</td>\n",
              "      <td>...</td>\n",
              "      <td>...</td>\n",
              "      <td>...</td>\n",
              "    </tr>\n",
              "    <tr>\n",
              "      <th>7946</th>\n",
              "      <td>06May2015:10:46:30.000000</td>\n",
              "      <td>5500</td>\n",
              "      <td>780-799</td>\n",
              "      <td>0</td>\n",
              "      <td>Ingreso anual neto: $48,300</td>\n",
              "      <td>SOUTHERN CALIFORNIA</td>\n",
              "      <td>FALSO</td>\n",
              "    </tr>\n",
              "    <tr>\n",
              "      <th>7957</th>\n",
              "      <td>06May2015:14:32:30.000000</td>\n",
              "      <td>6700</td>\n",
              "      <td>760-779</td>\n",
              "      <td>$100,000+</td>\n",
              "      <td>0</td>\n",
              "      <td>SOUTHERN CALIFORNIA</td>\n",
              "      <td>FALSO</td>\n",
              "    </tr>\n",
              "    <tr>\n",
              "      <th>7969</th>\n",
              "      <td>06May2015:18:25:17.000000</td>\n",
              "      <td>3200</td>\n",
              "      <td>740-759</td>\n",
              "      <td>0</td>\n",
              "      <td>El cliente no tiene deuda</td>\n",
              "      <td>SOUTHERN CALIFORNIA</td>\n",
              "      <td>FALSO</td>\n",
              "    </tr>\n",
              "    <tr>\n",
              "      <th>7995</th>\n",
              "      <td>07May2015:16:04:54.000000</td>\n",
              "      <td>3500</td>\n",
              "      <td>700-719</td>\n",
              "      <td>0</td>\n",
              "      <td>El cliente no tiene deuda...Ingreso anual neto...</td>\n",
              "      <td>SOUTHERN CALIFORNIA</td>\n",
              "      <td>FALSO</td>\n",
              "    </tr>\n",
              "    <tr>\n",
              "      <th>7997</th>\n",
              "      <td>07May2015:17:04:07.000000</td>\n",
              "      <td>2500</td>\n",
              "      <td>780-799</td>\n",
              "      <td>$10,001-$20,000</td>\n",
              "      <td>Ingreso mensual neto 2,870</td>\n",
              "      <td>SOUTHERN CALIFORNIA</td>\n",
              "      <td>FALSO</td>\n",
              "    </tr>\n",
              "  </tbody>\n",
              "</table>\n",
              "<p>1764 rows × 7 columns</p>\n",
              "</div>"
            ],
            "text/plain": [
              "           RECORD_CREATION_DATE  ...  PRESTAMO_INCUMPLIDO\n",
              "1     01May2014:09:48:36.000000  ...                FALSO\n",
              "3     01May2014:10:31:25.000000  ...                FALSO\n",
              "7     01May2014:11:53:24.000000  ...                FALSO\n",
              "10    01May2014:12:52:26.000000  ...                FALSO\n",
              "14    01May2014:13:57:11.000000  ...                FALSO\n",
              "...                         ...  ...                  ...\n",
              "7946  06May2015:10:46:30.000000  ...                FALSO\n",
              "7957  06May2015:14:32:30.000000  ...                FALSO\n",
              "7969  06May2015:18:25:17.000000  ...                FALSO\n",
              "7995  07May2015:16:04:54.000000  ...                FALSO\n",
              "7997  07May2015:17:04:07.000000  ...                FALSO\n",
              "\n",
              "[1764 rows x 7 columns]"
            ]
          },
          "metadata": {},
          "execution_count": 6
        }
      ]
    },
    {
      "cell_type": "code",
      "metadata": {
        "colab": {
          "base_uri": "https://localhost:8080/",
          "height": 292
        },
        "id": "vmFXI3U0Az5l",
        "outputId": "9617b438-ba56-4281-9a2c-2f98ddba4fe0"
      },
      "source": [
        "import random\n",
        "def interes(MONTO_DEL_PRESTAMO):\n",
        "  interes = MONTO_DEL_PRESTAMO * random.randint(1,3)\n",
        "  return interes\n",
        "df_filter[\"INTERES_DEL_PRESTAMO\"] = df_filter[\"MONTO_DEL_PRESTAMO\"].apply(interes)\n",
        "df_filter.head()"
      ],
      "execution_count": 8,
      "outputs": [
        {
          "output_type": "execute_result",
          "data": {
            "text/html": [
              "<div>\n",
              "<style scoped>\n",
              "    .dataframe tbody tr th:only-of-type {\n",
              "        vertical-align: middle;\n",
              "    }\n",
              "\n",
              "    .dataframe tbody tr th {\n",
              "        vertical-align: top;\n",
              "    }\n",
              "\n",
              "    .dataframe thead th {\n",
              "        text-align: right;\n",
              "    }\n",
              "</style>\n",
              "<table border=\"1\" class=\"dataframe\">\n",
              "  <thead>\n",
              "    <tr style=\"text-align: right;\">\n",
              "      <th></th>\n",
              "      <th>RECORD_CREATION_DATE</th>\n",
              "      <th>MONTO_DEL_PRESTAMO</th>\n",
              "      <th>RANGO_DEL_CREDITO</th>\n",
              "      <th>DEUDA_EXISTENTE</th>\n",
              "      <th>NOTAS_DEL_AGENTE</th>\n",
              "      <th>UBICACION_DE_LA_OFICINA</th>\n",
              "      <th>PRESTAMO_INCUMPLIDO</th>\n",
              "      <th>INTERES_DEL_PRESTAMO</th>\n",
              "    </tr>\n",
              "  </thead>\n",
              "  <tbody>\n",
              "    <tr>\n",
              "      <th>0</th>\n",
              "      <td>01May2014:09:24:27.000000</td>\n",
              "      <td>2500</td>\n",
              "      <td>760-779</td>\n",
              "      <td>$10,001-$20,000</td>\n",
              "      <td>0</td>\n",
              "      <td>NORTHERN CALIFORNIA</td>\n",
              "      <td>FALSO</td>\n",
              "      <td>2500</td>\n",
              "    </tr>\n",
              "    <tr>\n",
              "      <th>1</th>\n",
              "      <td>01May2014:09:48:36.000000</td>\n",
              "      <td>2500</td>\n",
              "      <td>700-719</td>\n",
              "      <td>$1-$10,000</td>\n",
              "      <td>Ingreso anual neto: $25,400</td>\n",
              "      <td>SOUTHERN CALIFORNIA</td>\n",
              "      <td>FALSO</td>\n",
              "      <td>5000</td>\n",
              "    </tr>\n",
              "    <tr>\n",
              "      <th>2</th>\n",
              "      <td>01May2014:10:10:36.000000</td>\n",
              "      <td>6300</td>\n",
              "      <td>740-759</td>\n",
              "      <td>$100,000+</td>\n",
              "      <td>0</td>\n",
              "      <td>ARIZONA</td>\n",
              "      <td>VERDADERO</td>\n",
              "      <td>18900</td>\n",
              "    </tr>\n",
              "    <tr>\n",
              "      <th>3</th>\n",
              "      <td>01May2014:10:31:25.000000</td>\n",
              "      <td>4300</td>\n",
              "      <td>780-799</td>\n",
              "      <td>$1-$10,000</td>\n",
              "      <td>Ingreso anual neto: $191,900</td>\n",
              "      <td>SOUTHERN CALIFORNIA</td>\n",
              "      <td>FALSO</td>\n",
              "      <td>12900</td>\n",
              "    </tr>\n",
              "    <tr>\n",
              "      <th>4</th>\n",
              "      <td>01May2014:10:46:54.000000</td>\n",
              "      <td>20100</td>\n",
              "      <td>780-799</td>\n",
              "      <td>$90,001-$100,000</td>\n",
              "      <td>Pagos mensuales de deuda verificados: $1,700</td>\n",
              "      <td>SOUTHERN CALIFORNIA</td>\n",
              "      <td>VERDADERO</td>\n",
              "      <td>60300</td>\n",
              "    </tr>\n",
              "  </tbody>\n",
              "</table>\n",
              "</div>"
            ],
            "text/plain": [
              "        RECORD_CREATION_DATE  ...  INTERES_DEL_PRESTAMO\n",
              "0  01May2014:09:24:27.000000  ...                  2500\n",
              "1  01May2014:09:48:36.000000  ...                  5000\n",
              "2  01May2014:10:10:36.000000  ...                 18900\n",
              "3  01May2014:10:31:25.000000  ...                 12900\n",
              "4  01May2014:10:46:54.000000  ...                 60300\n",
              "\n",
              "[5 rows x 8 columns]"
            ]
          },
          "metadata": {},
          "execution_count": 8
        }
      ]
    },
    {
      "cell_type": "code",
      "metadata": {
        "colab": {
          "base_uri": "https://localhost:8080/",
          "height": 235
        },
        "id": "VlnyLhBWCLN9",
        "outputId": "461fb865-8c06-4d6a-fa3c-1c4e20d7ed30"
      },
      "source": [
        "group = df_filter.groupby(\"UBICACION_DE_LA_OFICINA\").agg({\n",
        "    \"MONTO_DEL_PRESTAMO\": \"sum\", \n",
        "    \"INTERES_DEL_PRESTAMO\": 'mean'\n",
        "})\n",
        "group.head()"
      ],
      "execution_count": 10,
      "outputs": [
        {
          "output_type": "execute_result",
          "data": {
            "text/html": [
              "<div>\n",
              "<style scoped>\n",
              "    .dataframe tbody tr th:only-of-type {\n",
              "        vertical-align: middle;\n",
              "    }\n",
              "\n",
              "    .dataframe tbody tr th {\n",
              "        vertical-align: top;\n",
              "    }\n",
              "\n",
              "    .dataframe thead th {\n",
              "        text-align: right;\n",
              "    }\n",
              "</style>\n",
              "<table border=\"1\" class=\"dataframe\">\n",
              "  <thead>\n",
              "    <tr style=\"text-align: right;\">\n",
              "      <th></th>\n",
              "      <th>MONTO_DEL_PRESTAMO</th>\n",
              "      <th>INTERES_DEL_PRESTAMO</th>\n",
              "    </tr>\n",
              "    <tr>\n",
              "      <th>UBICACION_DE_LA_OFICINA</th>\n",
              "      <th></th>\n",
              "      <th></th>\n",
              "    </tr>\n",
              "  </thead>\n",
              "  <tbody>\n",
              "    <tr>\n",
              "      <th>ARIZONA</th>\n",
              "      <td>10612900</td>\n",
              "      <td>13170.820481</td>\n",
              "    </tr>\n",
              "    <tr>\n",
              "      <th>NEVADA</th>\n",
              "      <td>6758500</td>\n",
              "      <td>12763.522618</td>\n",
              "    </tr>\n",
              "    <tr>\n",
              "      <th>NORTHERN CALIFORNIA</th>\n",
              "      <td>11324600</td>\n",
              "      <td>13297.084548</td>\n",
              "    </tr>\n",
              "    <tr>\n",
              "      <th>OREGON</th>\n",
              "      <td>4713900</td>\n",
              "      <td>12391.523179</td>\n",
              "    </tr>\n",
              "    <tr>\n",
              "      <th>SOUTHERN CALIFORNIA</th>\n",
              "      <td>13573600</td>\n",
              "      <td>13049.761450</td>\n",
              "    </tr>\n",
              "  </tbody>\n",
              "</table>\n",
              "</div>"
            ],
            "text/plain": [
              "                         MONTO_DEL_PRESTAMO  INTERES_DEL_PRESTAMO\n",
              "UBICACION_DE_LA_OFICINA                                          \n",
              "ARIZONA                            10612900          13170.820481\n",
              "NEVADA                              6758500          12763.522618\n",
              "NORTHERN CALIFORNIA                11324600          13297.084548\n",
              "OREGON                              4713900          12391.523179\n",
              "SOUTHERN CALIFORNIA                13573600          13049.761450"
            ]
          },
          "metadata": {},
          "execution_count": 10
        }
      ]
    },
    {
      "cell_type": "code",
      "metadata": {
        "colab": {
          "base_uri": "https://localhost:8080/",
          "height": 313
        },
        "id": "9llg96kyDBFZ",
        "outputId": "7e92ed80-d0bf-4f7e-aac9-03567375f027"
      },
      "source": [
        "group[\"MONTO_DEL_PRESTAMO\"].plot(marker='<', linestyle='--')\n",
        "plt.ylabel('MONTO_DEL_PRESTAMO')\n",
        "plt.title(\"Ubicacion vs Monto\")\n",
        "plt.show"
      ],
      "execution_count": 11,
      "outputs": [
        {
          "output_type": "execute_result",
          "data": {
            "text/plain": [
              "<function matplotlib.pyplot.show>"
            ]
          },
          "metadata": {},
          "execution_count": 11
        },
        {
          "output_type": "display_data",
          "data": {
            "image/png": "[encoded data removed]",
            "text/plain": [
              "<Figure size 432x288 with 1 Axes>"
            ]
          },
          "metadata": {
            "needs_background": "light"
          }
        }
      ]
    }
  ]
}